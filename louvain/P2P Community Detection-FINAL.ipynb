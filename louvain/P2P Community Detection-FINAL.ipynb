{
 "metadata": {
  "kernelspec": {
   "display_name": "Streamlit Notebook",
   "name": "streamlit"
  },
  "lastEditStatus": {
   "notebookId": "hpimr6ylxzlypfjsooxe",
   "authorId": "8305788275502",
   "authorName": "DFAUTH",
   "authorEmail": "david.fauth@neo4j.com",
   "sessionId": "19e8274c-80e8-4ca1-ad82-8f54a4c98bd9",
   "lastEditTime": 1744910436925
  }
 },
 "nbformat_minor": 5,
 "nbformat": 4,
 "cells": [
  {
   "cell_type": "markdown",
   "id": "50586369-46a3-4516-9fa6-6c11930fe1b3",
   "metadata": {
    "name": "cell4",
    "collapsed": false
   },
   "source": "# Granting Permissions"
  },
  {
   "cell_type": "markdown",
   "id": "9ecba863-680a-49f3-bfbf-ec98e9a95f94",
   "metadata": {
    "name": "cell7",
    "collapsed": false
   },
   "source": "You must use `accountadmin` to grant and create roles."
  },
  {
   "cell_type": "code",
   "id": "b54671b0-e8d9-4003-b2dd-0b71bd764747",
   "metadata": {
    "language": "sql",
    "name": "cell6"
   },
   "outputs": [],
   "source": "-- you must be accountadmin to create role and grant permissions\nuse role accountadmin;",
   "execution_count": null
  },
  {
   "cell_type": "code",
   "id": "3775908f-ca36-4846-8f38-5adca39217f2",
   "metadata": {
    "language": "sql",
    "name": "cell1"
   },
   "source": "use schema p2p_demo.public;\n\n-- Create a consumer role for users of the GDS application\nCREATE ROLE IF NOT EXISTS gds_role;\nGRANT APPLICATION ROLE se_snow_neo4j_graph_analytics.app_user TO ROLE gds_role;\n-- Create a consumer role for administrators of the GDS application\nCREATE ROLE IF NOT EXISTS gds_role;\nGRANT APPLICATION ROLE se_snow_neo4j_graph_analytics.app_admin TO ROLE gds_role;\n\n-- Grant access to consumer data\n-- The application reads consumer data to build a graph object, and it also writes results into new tables.\n-- We therefore need to grant the right permissions to give the application access.\nGRANT USAGE ON DATABASE p2p_demo TO APPLICATION se_snow_neo4j_graph_analytics;\nGRANT USAGE ON SCHEMA p2p_demo.public TO APPLICATION se_snow_neo4j_graph_analytics;\n\n-- required to read tabular data into a graph\nGRANT SELECT ON ALL TABLES IN SCHEMA p2p_demo.public TO APPLICATION se_snow_neo4j_graph_analytics;\n-- required to write computation results into a table\nGRANT CREATE TABLE ON SCHEMA p2p_demo.public TO APPLICATION se_snow_neo4j_graph_analytics;\n-- optional, ensuring the consumer role has access to tables created by the application\nGRANT ALL PRIVILEGES ON FUTURE TABLES IN SCHEMA p2p_demo.public TO ROLE gds_role;\nGRANT ALL PRIVILEGES ON ALL TABLES IN SCHEMA p2p_demo.public TO ROLE gds_role;\nGRANT CREATE TABLE ON SCHEMA p2p_demo.public TO ROLE gds_role;\n\n\n\n-- required to write computation results into a table\nGRANT CREATE VIEW ON SCHEMA p2p_demo.public TO APPLICATION se_snow_neo4j_graph_analytics;\nGRANT CREATE VIEW ON SCHEMA p2p_demo.public TO APPLICATION se_snow_neo4j_graph_analytics;\nGRANT CREATE VIEW ON SCHEMA p2p_demo.public TO ROLE gds_role;\n\nGRANT USAGE, MONITOR ON COMPUTE POOL NEO4J_GRAPH_DATA_SCIENCE_POOL_CPU_X64_XS TO APPLICATION se_snow_neo4j_graph_analytics;\nGRANT USAGE ON WAREHOUSE GDSONSNOWFLAKE TO APPLICATION se_snow_neo4j_graph_analytics;\n",
   "execution_count": null,
   "outputs": []
  },
  {
   "cell_type": "markdown",
   "id": "8f4beb23-f311-4f7d-93d4-a0b2b92a64ac",
   "metadata": {
    "name": "cell9",
    "collapsed": false
   },
   "source": "Now we must switch to the role we created."
  },
  {
   "cell_type": "code",
   "id": "120b264a-e077-443d-943c-08198ea6a25d",
   "metadata": {
    "language": "sql",
    "name": "cell8"
   },
   "outputs": [],
   "source": "use role gds_role;",
   "execution_count": null
  },
  {
   "cell_type": "markdown",
   "id": "1a442241-34bd-4cf3-9d10-1be862a59a35",
   "metadata": {
    "name": "cell27",
    "collapsed": false
   },
   "source": "Create Compute Pool"
  },
  {
   "cell_type": "code",
   "id": "1f373ca7-9e89-44e0-b1ec-b217231c8498",
   "metadata": {
    "language": "sql",
    "name": "cell26"
   },
   "outputs": [],
   "source": "CREATE COMPUTE POOL IF NOT EXISTS NEO4J_GRAPH_DATA_SCIENCE_POOL_CPU_X64_L\n      MIN_NODES = 1\n      MAX_NODES = 3\n      INSTANCE_FAMILY = CPU_X64_L\n      AUTO_RESUME = true\n      AUTO_SUSPEND_SECS = 180\n      INITIALLY_SUSPENDED = true;\n    GRANT USAGE, MONITOR ON COMPUTE POOL NEO4J_GRAPH_DATA_SCIENCE_POOL_CPU_X64_L  TO APPLICATION se_snow_neo4j_graph_analytics;",
   "execution_count": null
  },
  {
   "cell_type": "markdown",
   "id": "fa6881c5-4ab6-4eec-ac19-1952b7c5e8d8",
   "metadata": {
    "name": "cell5",
    "collapsed": false
   },
   "source": "## Aggregated Transactions"
  },
  {
   "cell_type": "code",
   "id": "8d50cbf4-0c8d-4950-86cb-114990437ac9",
   "metadata": {
    "language": "sql",
    "name": "cell2"
   },
   "source": "CREATE OR REPLACE TABLE p2p_demo.public.P2P_AGG_TRANSACTIONS (\n\tSOURCENODEID NUMBER(38,0),\n\tTARGETNODEID NUMBER(38,0),\n\tTOTAL_AMOUNT FLOAT,\n\tTRANSACTION_COUNT FLOAT\n) AS\nSELECT sourceNodeId, targetNodeId, SUM(transaction_amount) AS total_amount, COUNT(*) AS transaction_count\nFROM p2p_demo.public.P2P_TRANSACTIONS\nGROUP BY sourceNodeId, targetNodeId;\nSELECT * FROM p2p_demo.public.P2P_AGG_TRANSACTIONS;\n\n\nCREATE OR REPLACE TABLE p2p_demo.public.P2P_AGG_TRANSACTIONS (\n\tSOURCENODEID NUMBER(38,0),\n\tTARGETNODEID NUMBER(38,0),\n\tTOTAL_AMOUNT FLOAT\n) AS\nSELECT sourceNodeId, targetNodeId, SUM(transaction_amount) AS total_amount\nFROM p2p_demo.public.P2P_TRANSACTIONS\nGROUP BY sourceNodeId, targetNodeId;\nSELECT * FROM p2p_demo.public.P2P_AGG_TRANSACTIONS;",
   "execution_count": null,
   "outputs": []
  },
  {
   "cell_type": "code",
   "id": "68363e0e-ef78-4a7c-ba2e-1b44b8b876c8",
   "metadata": {
    "language": "sql",
    "name": "cell34"
   },
   "outputs": [],
   "source": "GRANT SELECT ON ALL TABLES IN SCHEMA p2p_demo.public TO APPLICATION se_snow_neo4j_graph_analytics;",
   "execution_count": null
  },
  {
   "cell_type": "code",
   "id": "c695373e-ac74-4b62-a1f1-08206cbd5c81",
   "metadata": {
    "language": "sql",
    "name": "cell3"
   },
   "source": "USE DATABASE p2p_demo;\nUSE SCHEMA public;\nSELECT * FROM p2p_users;\nSELECT * FROM p2p_agg_transactions;",
   "execution_count": null,
   "outputs": []
  },
  {
   "cell_type": "code",
   "id": "e2a1c1d2-4eee-4a98-b247-bd9656c163b2",
   "metadata": {
    "language": "sql",
    "name": "cell19"
   },
   "outputs": [],
   "source": "CREATE OR REPLACE VIEW p2p_users_vw (nodeId) AS\n    SELECT DISTINCT p2p_demo.public.p2p_users.NODEID as nodeid\n    FROM p2p_users;",
   "execution_count": null
  },
  {
   "cell_type": "markdown",
   "id": "2c4f901b-b57d-4a09-babc-21c721272bee",
   "metadata": {
    "name": "cell28",
    "collapsed": false
   },
   "source": "Unsuspend Compute Pool"
  },
  {
   "cell_type": "code",
   "id": "775fefb0-84f5-4048-a98a-14d5ecb0a306",
   "metadata": {
    "language": "sql",
    "name": "cell29"
   },
   "outputs": [],
   "source": "SHOW COMPUTE POOLS",
   "execution_count": null
  },
  {
   "cell_type": "code",
   "id": "51e9c671-53fe-4471-9532-afee80a4d5e2",
   "metadata": {
    "language": "sql",
    "name": "cell30"
   },
   "outputs": [],
   "source": "ALTER COMPUTE POOL IF EXISTS NEO4J_GRAPH_DATA_SCIENCE_POOL_CPU_X64_L RESUME",
   "execution_count": null
  },
  {
   "cell_type": "code",
   "id": "485aeae6-8cb3-41d6-9700-cd18f4bc2ac0",
   "metadata": {
    "language": "sql",
    "name": "cell33"
   },
   "outputs": [],
   "source": "call se_snow_neo4j_graph_analytics.gds.show_available_compute_pools();",
   "execution_count": null
  },
  {
   "cell_type": "code",
   "id": "1a3211aa-8280-46c0-809f-ac09f47fb7e7",
   "metadata": {
    "language": "sql",
    "name": "cell31"
   },
   "outputs": [],
   "source": "GRANT USAGE, MONITOR ON COMPUTE POOL NEO4J_GRAPH_DATA_SCIENCE_POOL_CPU_X64_L TO APPLICATION se_snow_neo4j_graph_analytics;",
   "execution_count": null
  },
  {
   "cell_type": "code",
   "id": "3aa67dfb-b60e-461f-b6f1-6210acda0acd",
   "metadata": {
    "language": "sql",
    "name": "cell15"
   },
   "outputs": [],
   "source": "CALL se_snow_neo4j_graph_analytics.gds.create_session('CPU_X64_L');\n",
   "execution_count": null
  },
  {
   "cell_type": "code",
   "id": "998b3e70-9ecd-4f52-99d7-0b894310e821",
   "metadata": {
    "language": "sql",
    "name": "cell23"
   },
   "outputs": [],
   "source": "GRANT SELECT ON ALL VIEWS IN SCHEMA p2p_demo.public TO APPLICATION se_snow_neo4j_graph_analytics;",
   "execution_count": null
  },
  {
   "cell_type": "code",
   "id": "9622798d-bf90-4819-94a5-b3b9629f38f6",
   "metadata": {
    "language": "sql",
    "name": "cell32"
   },
   "outputs": [],
   "source": "SELECT se_snow_neo4j_graph_analytics.gds.graph_project('g', {\n    'defaultTablePrefix': 'p2p_demo.public',\n    'nodeTables' : ['p2p_users_vw'],\n    'relationshipTables': {\n        'P2P_AGG_TRANSACTIONS': {\n        'sourceTable': 'p2p_users_vw',\n        'targetTable': 'p2p_users_vw'\n        }\n    }\n});",
   "execution_count": null
  },
  {
   "cell_type": "code",
   "id": "2d6a9274-3a07-49ce-af71-2e7912596560",
   "metadata": {
    "language": "sql",
    "name": "cell17"
   },
   "outputs": [],
   "source": "SELECT se_snow_neo4j_graph_analytics.gds.louvain('g', {'mutateProperty': 'community_id'});",
   "execution_count": null
  },
  {
   "cell_type": "code",
   "id": "5dbc12d9-1c79-4a40-b890-119ce43e8d5f",
   "metadata": {
    "language": "sql",
    "name": "cell18"
   },
   "outputs": [],
   "source": "SELECT se_snow_neo4j_graph_analytics.gds.write_nodeproperties_to_table('g', {\n  'nodeLabels': ['p2p_users_vw'],\n  'nodeProperties': ['community_id'],\n  'tableSuffix': '_louvain'\n});",
   "execution_count": null
  },
  {
   "cell_type": "code",
   "id": "ef0f27f3-5d49-4f55-9358-35313fe87dee",
   "metadata": {
    "language": "sql",
    "name": "cell14"
   },
   "outputs": [],
   "source": "SELECT se_snow_neo4j_graph_analytics.gds.graph_drop('g');",
   "execution_count": null
  },
  {
   "cell_type": "code",
   "id": "dc41b373-10f5-4570-ad09-89c4662503c3",
   "metadata": {
    "language": "sql",
    "name": "cell20"
   },
   "outputs": [],
   "source": "CALL se_snow_neo4j_graph_analytics.gds.stop_session();",
   "execution_count": null
  },
  {
   "cell_type": "markdown",
   "id": "abf1a85e-0f82-4cb7-af20-9c2ea240af84",
   "metadata": {
    "name": "cell21",
    "collapsed": false
   },
   "source": "Change the Louvain results table ownership to the gds_role"
  },
  {
   "cell_type": "code",
   "id": "b6790c41-1146-4230-86ea-6fe2e8ffa1e1",
   "metadata": {
    "language": "sql",
    "name": "cell16"
   },
   "outputs": [],
   "source": "GRANT OWNERSHIP ON TABLE p2p_demo.public.P2P_USERS_VW_LOUVAIN TO ROLE gds_role REVOKE CURRENT GRANTS;\n",
   "execution_count": null
  },
  {
   "cell_type": "code",
   "id": "60a4a146-bcd4-4462-b271-1c713b776883",
   "metadata": {
    "language": "sql",
    "name": "cell35"
   },
   "outputs": [],
   "source": "SELECT p.NODEID, p.FRAUD_TRANSFER_FLAG, lv.COMMUNITY_ID\n    FROM p2p_demo.public.P2P_USERS_VW_LOUVAIN AS lv JOIN p2p_demo.public.p2p_users AS p\n        ON lv.NODEID = p.NODEID\n    ORDER BY lv.COMMUNITY_ID, p.NODEID;",
   "execution_count": null
  },
  {
   "cell_type": "markdown",
   "id": "b1016894-c028-46f0-8b5c-e15a9f7bb168",
   "metadata": {
    "name": "cell13",
    "collapsed": false
   },
   "source": "# 3.8"
  },
  {
   "cell_type": "code",
   "id": "279b4094-c0c6-4925-bd23-1df91a0d725f",
   "metadata": {
    "language": "sql",
    "name": "cell12"
   },
   "outputs": [],
   "source": "CALL se_snow_neo4j_graph_analytics.internal.louvain('CPU_X64_XS', {\n  'project': {\n    'defaultTablePrefix': 'p2p_demo.public',\n    'nodeTables': ['p2p_users'], \n    'relationshipTables': {\n      'p2p_agg_transactions': {\n        'sourceTable': 'p2p_users',\n        'targetTable': 'p2p_users'\n      }\n    }\n  },\n  'compute': { 'consecutiveIds': true },\n  'write': [\n    {\n      'nodeLabel': 'louvain_id', \n      'outputTable': 'p2p_demo.public.p2p_users_id'\n    }\n  ]\n});\n",
   "execution_count": null
  },
  {
   "cell_type": "markdown",
   "id": "72936f53-83f4-4e63-8f35-0a74a9ee0a44",
   "metadata": {
    "name": "cell11",
    "collapsed": false
   },
   "source": "# 3.9"
  },
  {
   "cell_type": "code",
   "id": "f8b1f831-5655-4867-940d-c82069d0a76c",
   "metadata": {
    "language": "sql",
    "name": "cell25"
   },
   "outputs": [],
   "source": "SHOW COMPUTE POOLS",
   "execution_count": null
  },
  {
   "cell_type": "code",
   "id": "15c9d2f6-60b2-49e7-8e09-419b0abe264a",
   "metadata": {
    "language": "sql",
    "name": "cell22"
   },
   "outputs": [],
   "source": "CALL se_snow_neo4j_graph_analytics.internal.wcc('NEO4J_GRAPH_DATA_SCIENCE_POOL_CPU_X64_L', 'GDSONSNOWFLAKE', {\n  'project': {\n    'defaultTablePrefix': 'p2p_demo.public',  \n    'nodeTables': ['p2p_users'], \n    'relationshipTables': {\n      'p2p_agg_transactions': {\n        'sourceTable': 'p2p_users',\n        'targetTable': 'p2p_users'\n      }\n    }\n  },\n  'compute': { 'consecutiveIds': true },\n  'write': [\n    {'nodeLabel': 'p2p_users', 'outputTable': 'p2p_demo.public.p2p_users_wcc_id'}\n  ]\n});",
   "execution_count": null
  },
  {
   "cell_type": "code",
   "id": "7d909970-1ab5-4f64-8b02-f665d07b490a",
   "metadata": {
    "language": "sql",
    "name": "cell24"
   },
   "outputs": [],
   "source": "CALL se_snow_neo4j_graph_analytics.internal.wcc('CPU_X64_XS', {\n  'project': {\n    'defaultTablePrefix': 'p2p_demo.public',\n    'nodeTables': ['p2p_users'], \n    'relationshipTables': {\n      'p2p_agg_transactions': {\n        'sourceTable': 'p2p_users',\n        'targetTable': 'p2p_users'\n      }\n    }\n  },\n  'compute': { 'consecutiveIds': true },\n  'write': [{'nodeLabel': 'p2p_users', 'outputTable': 'p2p_demo.public.p2p_users_id'}]\n});",
   "execution_count": null
  },
  {
   "cell_type": "code",
   "id": "58deeb3c-40f3-4001-ac4f-7e18b519aa21",
   "metadata": {
    "language": "sql",
    "name": "cell10"
   },
   "outputs": [],
   "source": "CALL app.internal.louvain('CPU_X64_L', {\n  'defaultTablePrefix': 'p2p_demo.public',  \n  'project': {\n    'nodeTables': ['p2p_users'], \n    'relationshipTables': {\n      'p2p_agg_transactions': {\n        'sourceTable': 'p2p_users',\n        'targetTable': 'p2p_users'\n      }\n    }\n  },\n  'compute': { 'consecutiveIds': true }\n  'write': [\n    {'nodeLabel': 'louvain_id', 'outputTable': 'p2p_users_id'}\n  ]\n});\n",
   "execution_count": null
  }
 ]
}